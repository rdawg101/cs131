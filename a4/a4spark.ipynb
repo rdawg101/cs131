{
 "cells": [
  {
   "cell_type": "code",
   "execution_count": 1,
   "id": "155f493f-70fb-469f-9c3e-b8ac948e5d21",
   "metadata": {},
   "outputs": [
    {
     "name": "stdout",
     "output_type": "stream",
     "text": [
      "4.0.0\n"
     ]
    }
   ],
   "source": [
    "import pyspark\n",
    "print(pyspark.__version__)"
   ]
  },
  {
   "cell_type": "code",
   "execution_count": 2,
   "id": "61d49388-31c7-4bcb-8646-93f8e5edeade",
   "metadata": {},
   "outputs": [
    {
     "name": "stdout",
     "output_type": "stream",
     "text": [
      "+---+\n",
      "| id|\n",
      "+---+\n",
      "|  0|\n",
      "|  1|\n",
      "|  2|\n",
      "|  3|\n",
      "|  4|\n",
      "+---+\n",
      "\n"
     ]
    }
   ],
   "source": [
    "from pyspark.sql import SparkSession\n",
    "\n",
    "spark = SparkSession.builder \\\n",
    "    .appName(\"TaxiTotalAmmountPrediction\") \\\n",
    "    .getOrCreate()\n",
    "\n",
    "spark.range(5).show()"
   ]
  },
  {
   "cell_type": "code",
   "execution_count": 3,
   "id": "c2682d82-145f-4b1a-863e-4f36bbf8a919",
   "metadata": {},
   "outputs": [
    {
     "name": "stdout",
     "output_type": "stream",
     "text": [
      "+---------------+------------+------------+------------+\n",
      "|passenger_count|PULocationID|DOLocationID|total_amount|\n",
      "+---------------+------------+------------+------------+\n",
      "|            1.0|       239.0|       239.0|         8.8|\n",
      "|            1.0|       230.0|       100.0|         8.3|\n",
      "|            1.0|        68.0|       127.0|       47.75|\n",
      "|            1.0|        68.0|        68.0|         7.3|\n",
      "|            1.0|        50.0|        42.0|       23.15|\n",
      "|            1.0|        95.0|       196.0|         9.8|\n",
      "|            1.0|       211.0|       211.0|         6.8|\n",
      "|            1.0|       237.0|       162.0|         7.8|\n",
      "|            1.0|       148.0|        37.0|        20.3|\n",
      "|            1.0|       265.0|       265.0|        0.31|\n",
      "+---------------+------------+------------+------------+\n",
      "only showing top 10 rows\n"
     ]
    }
   ],
   "source": [
    "df = spark.read.csv(\"2019-04.csv\", header=True, inferSchema=True)\n",
    "\n",
    "selected_cols = [\"passenger_count\", \"PULocationID\", \"DOLocationID\", \"total_amount\"]\n",
    "df_selected = df.select(selected_cols)\n",
    "df_selected.show(10)"
   ]
  },
  {
   "cell_type": "code",
   "execution_count": 4,
   "id": "7c6785c1-fabf-453d-bee1-ec550effac47",
   "metadata": {},
   "outputs": [],
   "source": [
    "trainDF, testDF = df_selected.randomSplit([0.8,0.2], seed=42)"
   ]
  },
  {
   "cell_type": "code",
   "execution_count": 5,
   "id": "7a0b7956-947e-47a1-a566-d2bffa405b07",
   "metadata": {},
   "outputs": [],
   "source": [
    "from pyspark.ml.regression import DecisionTreeRegressor\n",
    "from pyspark.ml.feature import VectorAssembler\n",
    "from pyspark.ml import Pipeline\n",
    "\n",
    "assembler = VectorAssembler(\n",
    "    inputCols=[\"passenger_count\", \"PULocationID\", \"DOLocationID\"],\n",
    "    outputCol=\"features\"\n",
    ")\n",
    "\n",
    "dt = DecisionTreeRegressor(featuresCol=\"features\", labelCol=\"total_amount\")"
   ]
  },
  {
   "cell_type": "code",
   "execution_count": 6,
   "id": "e6c081bf-711e-41a5-beec-d5821b536f5e",
   "metadata": {},
   "outputs": [],
   "source": [
    "pipeline = Pipeline(stages=[assembler, dt])"
   ]
  },
  {
   "cell_type": "code",
   "execution_count": 7,
   "id": "05494932-9746-4b5e-b47f-bb0a8182f14d",
   "metadata": {},
   "outputs": [],
   "source": [
    "model = pipeline.fit(trainDF)"
   ]
  },
  {
   "cell_type": "code",
   "execution_count": 8,
   "id": "3b791a81-e31a-462c-9d79-a7a70a0208c1",
   "metadata": {},
   "outputs": [
    {
     "name": "stdout",
     "output_type": "stream",
     "text": [
      "+---------------+------------+------------+------------------+\n",
      "|passenger_count|PULocationID|DOLocationID|        prediction|\n",
      "+---------------+------------+------------+------------------+\n",
      "|            0.0|         1.0|         1.0|20.381364073006495|\n",
      "|            0.0|         4.0|         4.0|20.381364073006495|\n",
      "|            0.0|         4.0|         4.0|20.381364073006495|\n",
      "|            0.0|         4.0|        79.0| 15.74033835258631|\n",
      "|            0.0|         4.0|        88.0| 15.74033835258631|\n",
      "|            0.0|         4.0|       114.0| 15.74033835258631|\n",
      "|            0.0|         4.0|       186.0|17.986261707235286|\n",
      "|            0.0|         4.0|       257.0|17.986261707235286|\n",
      "|            0.0|         7.0|       146.0|17.986261707235286|\n",
      "|            0.0|         7.0|       146.0|17.986261707235286|\n",
      "+---------------+------------+------------+------------------+\n",
      "only showing top 10 rows\n"
     ]
    }
   ],
   "source": [
    "predictions = model.transform(testDF)\n",
    "predictions.select(\"passenger_count\", \"PULocationID\", \"DOLocationID\", \"prediction\").show(10)"
   ]
  },
  {
   "cell_type": "code",
   "execution_count": 9,
   "id": "e4c94dd2-ac8c-45bb-b2c0-5bf28a85a3f9",
   "metadata": {},
   "outputs": [
    {
     "name": "stdout",
     "output_type": "stream",
     "text": [
      "Root Mean Squared Error (RMSE) on test data = 14.518795974849455\n"
     ]
    }
   ],
   "source": [
    "from pyspark.ml.evaluation import RegressionEvaluator\n",
    "\n",
    "evaluator = RegressionEvaluator(\n",
    "    labelCol=\"total_amount\", predictionCol=\"prediction\", metricName=\"rmse\"\n",
    ")\n",
    "\n",
    "rmse = evaluator.evaluate(predictions)\n",
    "print(f\"Root Mean Squared Error (RMSE) on test data = {rmse}\")"
   ]
  },
  {
   "cell_type": "code",
   "execution_count": null,
   "id": "c8c8eba1-655f-4957-b2f1-3b39888be557",
   "metadata": {},
   "outputs": [],
   "source": []
  }
 ],
 "metadata": {
  "kernelspec": {
   "display_name": "Python (Pipenv Spark)",
   "language": "python",
   "name": "pipenv_spark"
  },
  "language_info": {
   "codemirror_mode": {
    "name": "ipython",
    "version": 3
   },
   "file_extension": ".py",
   "mimetype": "text/x-python",
   "name": "python",
   "nbconvert_exporter": "python",
   "pygments_lexer": "ipython3",
   "version": "3.13.5"
  }
 },
 "nbformat": 4,
 "nbformat_minor": 5
}
